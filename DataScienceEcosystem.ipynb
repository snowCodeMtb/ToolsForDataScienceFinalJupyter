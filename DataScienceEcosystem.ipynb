{
 "cells": [
  {
   "cell_type": "markdown",
   "id": "0fab1ef9-8ae4-4cab-98b2-f1f1fc604061",
   "metadata": {},
   "source": [
    "# Data Science Tools and Ecosystem\n",
    "In this notebook, Data Science Tools and Ecosystem are summarized.\n",
    "\n",
    "Some of the popular languages that Data Scientists use are:\n",
    "1. Python\n",
    "2. R\n",
    "3. SQL\r\n",
    "\n",
    "\n",
    "Some of the commonly used libraries used by Data Scientists include:\n",
    "1. NumPy\n",
    "2. Pandas\n",
    "3. Matplotlib\n",
    "4. Scikit-lear\n",
    "\n"
   ]
  },
  {
   "cell_type": "markdown",
   "id": "7e0eb3d7-08d1-456d-bdbe-018b6fb4b856",
   "metadata": {},
   "source": [
    "|Data Science Tools|\n",
    "|-------------------|\n",
    "|Jupyter Notebook|\n",
    "|RStudio |\n",
    "|Apache Zeppelin|"
   ]
  },
  {
   "cell_type": "markdown",
   "id": "1e419074-ebc7-45f7-af23-ade0a4f28e2d",
   "metadata": {},
   "source": [
    "### Below are a few examples of evaluating arithmetic expressions in Python\r\n"
   ]
  },
  {
   "cell_type": "code",
   "execution_count": 1,
   "id": "4beaf4a5-65bd-4498-8e08-f962e965c285",
   "metadata": {},
   "outputs": [
    {
     "data": {
      "text/plain": [
       "17"
      ]
     },
     "execution_count": 1,
     "metadata": {},
     "output_type": "execute_result"
    }
   ],
   "source": [
    "# This a simple arithmetic expression to multiply then add integers \n",
    "(3*4)+5"
   ]
  },
  {
   "cell_type": "code",
   "execution_count": 1,
   "id": "bea2d0d9-6bbf-4352-b8a7-8f4b9e652a55",
   "metadata": {},
   "outputs": [
    {
     "data": {
      "text/plain": [
       "3.3333333333333335"
      ]
     },
     "execution_count": 1,
     "metadata": {},
     "output_type": "execute_result"
    }
   ],
   "source": [
    "#  This will convert 200 minutes to hours by diving by 60\n",
    "200 / 60"
   ]
  },
  {
   "cell_type": "markdown",
   "id": "feb3c0a8-94c5-4dc5-b27e-a025a0b3b4df",
   "metadata": {},
   "source": [
    "**Objectives:**\n",
    "* Python\n",
    "* R\n",
    "* SQL"
   ]
  },
  {
   "cell_type": "markdown",
   "id": "f09500ae-ac89-4265-9bd3-614581e87a88",
   "metadata": {},
   "source": [
    "## Author\n",
    "Weiqing "
   ]
  },
  {
   "cell_type": "markdown",
   "id": "f2934ae4-1618-4472-b0d7-095fa6a5a6ff",
   "metadata": {},
   "source": []
  }
 ],
 "metadata": {
  "kernelspec": {
   "display_name": "Python 3 (ipykernel)",
   "language": "python",
   "name": "python3"
  },
  "language_info": {
   "codemirror_mode": {
    "name": "ipython",
    "version": 3
   },
   "file_extension": ".py",
   "mimetype": "text/x-python",
   "name": "python",
   "nbconvert_exporter": "python",
   "pygments_lexer": "ipython3",
   "version": "3.11.7"
  }
 },
 "nbformat": 4,
 "nbformat_minor": 5
}
